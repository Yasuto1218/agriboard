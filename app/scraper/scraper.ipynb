{
 "cells": [
  {
   "cell_type": "code",
   "execution_count": 3,
   "metadata": {},
   "outputs": [],
   "source": [
    "from selenium import webdriver\n",
    "from selenium.webdriver.chrome.service import Service\n",
    "from selenium.webdriver.common.by import By\n",
    "import time\n",
    "\n",
    "import polars as pl"
   ]
  },
  {
   "cell_type": "code",
   "execution_count": 5,
   "metadata": {},
   "outputs": [
    {
     "data": {
      "text/plain": [
       "'https://www.seisen.maff.go.jp/seisen/bs04b040md001/BS04B040UC020SC001-Evt007.do'"
      ]
     },
     "execution_count": 5,
     "metadata": {},
     "output_type": "execute_result"
    }
   ],
   "source": [
    "chuo_shijou_url = \"https://www.seisen.maff.go.jp/seisen/bs04b040md001/BS04B040UC020SC001-Evt007.do\"\n",
    "chuo_shijou_url"
   ]
  },
  {
   "cell_type": "code",
   "execution_count": 4,
   "metadata": {},
   "outputs": [
    {
     "data": {
      "text/html": [
       "<div><style>\n",
       ".dataframe > thead > tr,\n",
       ".dataframe > tbody > tr {\n",
       "  text-align: right;\n",
       "  white-space: pre-wrap;\n",
       "}\n",
       "</style>\n",
       "<small>shape: (57, 16)</small><table border=\"1\" class=\"dataframe\"><thead><tr><th>青果物卸売市場調査報告</th><th>__UNNAMED__1</th><th>__UNNAMED__2</th><th>__UNNAMED__3</th><th>__UNNAMED__4</th><th>__UNNAMED__5</th><th>__UNNAMED__6</th><th>__UNNAMED__7</th><th>__UNNAMED__8</th><th>__UNNAMED__9</th><th>__UNNAMED__10</th><th>__UNNAMED__11</th><th>__UNNAMED__12</th><th>__UNNAMED__13</th><th>__UNNAMED__14</th><th>__UNNAMED__15</th></tr><tr><td>str</td><td>str</td><td>str</td><td>str</td><td>str</td><td>str</td><td>str</td><td>str</td><td>str</td><td>str</td><td>str</td><td>str</td><td>str</td><td>str</td><td>str</td><td>str</td></tr></thead><tbody><tr><td>&quot;都市類別にみた野菜の卸売数量・価額・価格累年統計&quot;</td><td>null</td><td>null</td><td>null</td><td>null</td><td>null</td><td>null</td><td>null</td><td>null</td><td>null</td><td>null</td><td>null</td><td>null</td><td>null</td><td>null</td><td>null</td></tr><tr><td>&quot;トマト&quot;</td><td>null</td><td>null</td><td>null</td><td>null</td><td>null</td><td>null</td><td>null</td><td>null</td><td>null</td><td>null</td><td>null</td><td>null</td><td>null</td><td>null</td><td>null</td></tr><tr><td>&quot;年次&quot;</td><td>&quot;総数&quot;</td><td>null</td><td>null</td><td>&quot;中央卸売市場計&quot;</td><td>null</td><td>null</td><td>&quot;主要都市の市場計&quot;</td><td>null</td><td>null</td><td>&quot;１類都市の市場&quot;</td><td>null</td><td>null</td><td>&quot;２類都市の市場&quot;</td><td>null</td><td>null</td></tr><tr><td>null</td><td>&quot;数量&quot;</td><td>&quot;価額&quot;</td><td>&quot;価格&quot;</td><td>&quot;数量&quot;</td><td>&quot;価額&quot;</td><td>&quot;価格&quot;</td><td>&quot;数量&quot;</td><td>&quot;価額&quot;</td><td>&quot;価格&quot;</td><td>&quot;数量&quot;</td><td>&quot;価額&quot;</td><td>&quot;価格&quot;</td><td>&quot;数量&quot;</td><td>&quot;価額&quot;</td><td>&quot;価格&quot;</td></tr><tr><td>null</td><td>&quot;ｔ&quot;</td><td>&quot;千円&quot;</td><td>&quot;1kg当たり円&quot;</td><td>&quot;ｔ&quot;</td><td>&quot;千円&quot;</td><td>&quot;1kg当たり円&quot;</td><td>&quot;ｔ&quot;</td><td>&quot;千円&quot;</td><td>&quot;1kg当たり円&quot;</td><td>&quot;ｔ&quot;</td><td>&quot;千円&quot;</td><td>&quot;1kg当たり円&quot;</td><td>&quot;ｔ&quot;</td><td>&quot;千円&quot;</td><td>&quot;1kg当たり円&quot;</td></tr><tr><td>&hellip;</td><td>&hellip;</td><td>&hellip;</td><td>&hellip;</td><td>&hellip;</td><td>&hellip;</td><td>&hellip;</td><td>&hellip;</td><td>&hellip;</td><td>&hellip;</td><td>&hellip;</td><td>&hellip;</td><td>&hellip;</td><td>&hellip;</td><td>&hellip;</td><td>&hellip;</td></tr><tr><td>null</td><td>&quot;7：「たまねぎ」については国産・輸入別に掲載していたものを、…</td><td>null</td><td>null</td><td>null</td><td>null</td><td>null</td><td>null</td><td>null</td><td>null</td><td>null</td><td>null</td><td>null</td><td>null</td><td>null</td><td>null</td></tr><tr><td>null</td><td>&quot;8：平成16年（2004年）以前のトマトの総数については、ミ…</td><td>null</td><td>null</td><td>null</td><td>null</td><td>null</td><td>null</td><td>null</td><td>null</td><td>null</td><td>null</td><td>null</td><td>null</td><td>null</td><td>null</td></tr><tr><td>null</td><td>&quot;9：平成14年（2002年）から追加した品目の総数については…</td><td>null</td><td>null</td><td>null</td><td>null</td><td>null</td><td>null</td><td>null</td><td>null</td><td>null</td><td>null</td><td>null</td><td>null</td><td>null</td><td>null</td></tr><tr><td>null</td><td>&quot;10：平成21年（2009年）以降、調査の見直しに伴い、１類…</td><td>null</td><td>null</td><td>null</td><td>null</td><td>null</td><td>null</td><td>null</td><td>null</td><td>null</td><td>null</td><td>null</td><td>null</td><td>null</td><td>null</td></tr><tr><td>null</td><td>&quot;11：「みずな」は平成28年（2016年）からのデータである…</td><td>null</td><td>null</td><td>null</td><td>null</td><td>null</td><td>null</td><td>null</td><td>null</td><td>null</td><td>null</td><td>null</td><td>null</td><td>null</td><td>null</td></tr></tbody></table></div>"
      ],
      "text/plain": [
       "shape: (57, 16)\n",
       "┌───────────┬───────────┬───────────┬───────────┬───┬───────────┬───────────┬───────────┬──────────┐\n",
       "│ 青果物卸  ┆ __UNNAMED ┆ __UNNAMED ┆ __UNNAMED ┆ … ┆ __UNNAMED ┆ __UNNAMED ┆ __UNNAMED ┆ __UNNAME │\n",
       "│ 売市場調  ┆ __1       ┆ __2       ┆ __3       ┆   ┆ __12      ┆ __13      ┆ __14      ┆ D__15    │\n",
       "│ 査報告    ┆ ---       ┆ ---       ┆ ---       ┆   ┆ ---       ┆ ---       ┆ ---       ┆ ---      │\n",
       "│ ---       ┆ str       ┆ str       ┆ str       ┆   ┆ str       ┆ str       ┆ str       ┆ str      │\n",
       "│ str       ┆           ┆           ┆           ┆   ┆           ┆           ┆           ┆          │\n",
       "╞═══════════╪═══════════╪═══════════╪═══════════╪═══╪═══════════╪═══════════╪═══════════╪══════════╡\n",
       "│ 都市類別  ┆ null      ┆ null      ┆ null      ┆ … ┆ null      ┆ null      ┆ null      ┆ null     │\n",
       "│ にみた野  ┆           ┆           ┆           ┆   ┆           ┆           ┆           ┆          │\n",
       "│ 菜の卸売  ┆           ┆           ┆           ┆   ┆           ┆           ┆           ┆          │\n",
       "│ 数量・価  ┆           ┆           ┆           ┆   ┆           ┆           ┆           ┆          │\n",
       "│ 額・価格  ┆           ┆           ┆           ┆   ┆           ┆           ┆           ┆          │\n",
       "│ 累年統計  ┆           ┆           ┆           ┆   ┆           ┆           ┆           ┆          │\n",
       "│ トマト    ┆ null      ┆ null      ┆ null      ┆ … ┆ null      ┆ null      ┆ null      ┆ null     │\n",
       "│ 年次      ┆ 総数      ┆ null      ┆ null      ┆ … ┆ null      ┆ ２類都市  ┆ null      ┆ null     │\n",
       "│           ┆           ┆           ┆           ┆   ┆           ┆ の市場    ┆           ┆          │\n",
       "│ null      ┆ 数量      ┆ 価額      ┆ 価格      ┆ … ┆ 価格      ┆ 数量      ┆ 価額      ┆ 価格     │\n",
       "│ null      ┆ ｔ        ┆ 千円      ┆ 1kg当たり ┆ … ┆ 1kg当たり ┆ ｔ        ┆ 千円      ┆ 1kg当た  │\n",
       "│           ┆           ┆           ┆ 円        ┆   ┆ 円        ┆           ┆           ┆ り円     │\n",
       "│ …         ┆ …         ┆ …         ┆ …         ┆ … ┆ …         ┆ …         ┆ …         ┆ …        │\n",
       "│ null      ┆ 7：「たま ┆ null      ┆ null      ┆ … ┆ null      ┆ null      ┆ null      ┆ null     │\n",
       "│           ┆ ねぎ」に  ┆           ┆           ┆   ┆           ┆           ┆           ┆          │\n",
       "│           ┆ ついては  ┆           ┆           ┆   ┆           ┆           ┆           ┆          │\n",
       "│           ┆ 国産・輸  ┆           ┆           ┆   ┆           ┆           ┆           ┆          │\n",
       "│           ┆ 入別に掲  ┆           ┆           ┆   ┆           ┆           ┆           ┆          │\n",
       "│           ┆ 載してい  ┆           ┆           ┆   ┆           ┆           ┆           ┆          │\n",
       "│           ┆ たものを  ┆           ┆           ┆   ┆           ┆           ┆           ┆          │\n",
       "│           ┆ 、…       ┆           ┆           ┆   ┆           ┆           ┆           ┆          │\n",
       "│ null      ┆ 8：平成16 ┆ null      ┆ null      ┆ … ┆ null      ┆ null      ┆ null      ┆ null     │\n",
       "│           ┆ 年（2004  ┆           ┆           ┆   ┆           ┆           ┆           ┆          │\n",
       "│           ┆ 年）以前  ┆           ┆           ┆   ┆           ┆           ┆           ┆          │\n",
       "│           ┆ のトマト  ┆           ┆           ┆   ┆           ┆           ┆           ┆          │\n",
       "│           ┆ の総数に  ┆           ┆           ┆   ┆           ┆           ┆           ┆          │\n",
       "│           ┆ ついては  ┆           ┆           ┆   ┆           ┆           ┆           ┆          │\n",
       "│           ┆ 、ミ…     ┆           ┆           ┆   ┆           ┆           ┆           ┆          │\n",
       "│ null      ┆ 9：平成14 ┆ null      ┆ null      ┆ … ┆ null      ┆ null      ┆ null      ┆ null     │\n",
       "│           ┆ 年（2002  ┆           ┆           ┆   ┆           ┆           ┆           ┆          │\n",
       "│           ┆ 年）から  ┆           ┆           ┆   ┆           ┆           ┆           ┆          │\n",
       "│           ┆ 追加した  ┆           ┆           ┆   ┆           ┆           ┆           ┆          │\n",
       "│           ┆ 品目の総  ┆           ┆           ┆   ┆           ┆           ┆           ┆          │\n",
       "│           ┆ 数につい  ┆           ┆           ┆   ┆           ┆           ┆           ┆          │\n",
       "│           ┆ ては…     ┆           ┆           ┆   ┆           ┆           ┆           ┆          │\n",
       "│ null      ┆ 10：平成2 ┆ null      ┆ null      ┆ … ┆ null      ┆ null      ┆ null      ┆ null     │\n",
       "│           ┆ 1年（2009 ┆           ┆           ┆   ┆           ┆           ┆           ┆          │\n",
       "│           ┆ 年）以降  ┆           ┆           ┆   ┆           ┆           ┆           ┆          │\n",
       "│           ┆ 、調査の  ┆           ┆           ┆   ┆           ┆           ┆           ┆          │\n",
       "│           ┆ 見直しに  ┆           ┆           ┆   ┆           ┆           ┆           ┆          │\n",
       "│           ┆ 伴い、１  ┆           ┆           ┆   ┆           ┆           ┆           ┆          │\n",
       "│           ┆ 類…       ┆           ┆           ┆   ┆           ┆           ┆           ┆          │\n",
       "│ null      ┆ 11：「み  ┆ null      ┆ null      ┆ … ┆ null      ┆ null      ┆ null      ┆ null     │\n",
       "│           ┆ ずな」は  ┆           ┆           ┆   ┆           ┆           ┆           ┆          │\n",
       "│           ┆ 平成28年  ┆           ┆           ┆   ┆           ┆           ┆           ┆          │\n",
       "│           ┆ （2016年  ┆           ┆           ┆   ┆           ┆           ┆           ┆          │\n",
       "│           ┆ ）からの  ┆           ┆           ┆   ┆           ┆           ┆           ┆          │\n",
       "│           ┆ データで  ┆           ┆           ┆   ┆           ┆           ┆           ┆          │\n",
       "│           ┆ ある…     ┆           ┆           ┆   ┆           ┆           ┆           ┆          │\n",
       "└───────────┴───────────┴───────────┴───────────┴───┴───────────┴───────────┴───────────┴──────────┘"
      ]
     },
     "execution_count": 4,
     "metadata": {},
     "output_type": "execute_result"
    }
   ],
   "source": [
    "path = \"..//data/トマト.xls\"\n",
    "pl.read_excel(path)"
   ]
  },
  {
   "cell_type": "code",
   "execution_count": null,
   "metadata": {},
   "outputs": [],
   "source": []
  }
 ],
 "metadata": {
  "kernelspec": {
   "display_name": "Python 3",
   "language": "python",
   "name": "python3"
  },
  "language_info": {
   "codemirror_mode": {
    "name": "ipython",
    "version": 3
   },
   "file_extension": ".py",
   "mimetype": "text/x-python",
   "name": "python",
   "nbconvert_exporter": "python",
   "pygments_lexer": "ipython3",
   "version": "3.10.3"
  }
 },
 "nbformat": 4,
 "nbformat_minor": 2
}
