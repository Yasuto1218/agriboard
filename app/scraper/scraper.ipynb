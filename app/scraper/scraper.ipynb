{
 "cells": [
  {
   "cell_type": "markdown",
   "metadata": {},
   "source": [
    "## 注意\n",
    "- スクリプトの実行は自己責任\n",
    "- スクリプトを実行する際は、time.sleep(t)のtを長めに設定しサーバーへの負担を最小限に抑えること"
   ]
  },
  {
   "cell_type": "code",
   "execution_count": 97,
   "metadata": {},
   "outputs": [],
   "source": [
    "import os\n",
    "import time\n",
    "import zipfile\n",
    "from pathlib import Path  # 絶対パスを簡単に取得できるように\n",
    "\n",
    "from selenium import webdriver\n",
    "from selenium.webdriver.common.by import By\n",
    "from selenium.webdriver.support.ui import Select"
   ]
  },
  {
   "cell_type": "code",
   "execution_count": 89,
   "metadata": {},
   "outputs": [],
   "source": [
    "# 保存ディレクトリの指定\n",
    "download_dir_path = Path(\"../data/zip_data\").resolve()\n",
    "download_dir_path.mkdir(exist_ok=True)          # ディレクトリが存在しない場合にエラーを出さないため\n",
    "download_dir = str(download_dir_path.resolve()) # 絶対パス\n",
    "\n",
    "# オプション\n",
    "options = webdriver.ChromeOptions()\n",
    "options.add_experimental_option(\"prefs\", {\n",
    "    \"download.default_directory\": download_dir,\n",
    "    \"plugins.always_open_pdf_externally\": True\n",
    "})"
   ]
  },
  {
   "cell_type": "code",
   "execution_count": 90,
   "metadata": {},
   "outputs": [],
   "source": [
    "chuo_shijou_url = \"https://www.seisen.maff.go.jp/seisen/bs04b040md001/BS04B040UC020SC001-Evt007.do\""
   ]
  },
  {
   "cell_type": "code",
   "execution_count": 91,
   "metadata": {},
   "outputs": [],
   "source": [
    "# Chrome Webドライバー の インスタンスを生成\n",
    "driver = webdriver.Chrome(options=options)"
   ]
  },
  {
   "cell_type": "code",
   "execution_count": 92,
   "metadata": {},
   "outputs": [],
   "source": [
    "# Webドライバーで中央卸売市場ページを起動\n",
    "driver.get(chuo_shijou_url)"
   ]
  },
  {
   "cell_type": "code",
   "execution_count": 95,
   "metadata": {},
   "outputs": [],
   "source": [
    "years = [str(y) for y in range(2015, 2025)]\n",
    "months = [str(m).zfill(2) for m in range(1, 13)]\n",
    "tendays = [\"1\", \"2\", \"3\"] # 1:上旬, 2:中旬, 3:下旬"
   ]
  },
  {
   "cell_type": "code",
   "execution_count": 96,
   "metadata": {},
   "outputs": [],
   "source": [
    "def download_zip(year: str, month: str, tenday: str):\n",
    "    # 年を指定\n",
    "    year_element = driver.find_element(By.NAME, \"s027.year\")\n",
    "    select = Select(year_element)\n",
    "    select.select_by_value(year)\n",
    "\n",
    "    # 月を指定\n",
    "    month_element = driver.find_element(By.NAME, \"s027.month\")\n",
    "    select = Select(month_element)\n",
    "    select.select_by_value(month)\n",
    "\n",
    "    # 期間を指定\n",
    "    tendays_element = driver.find_element(By.NAME, \"s027.tendays\")\n",
    "    select = Select(tendays_element)\n",
    "    select.select_by_value(tenday)\n",
    "\n",
    "    # ダウンロード\n",
    "    ## CSVボタンを押す\n",
    "    csv_button = driver.find_element(By.NAME, \"CSV\")\n",
    "    csv_button.click()\n",
    "\n",
    "\n",
    "t = 10\n",
    "# Iterate over all year/month/ten-day combinations and download each CSV\n",
    "for y in years:\n",
    "    for m in months:\n",
    "        for t in tendays:\n",
    "            download_zip(y, m, t)\n",
    "            time.sleep(t)\n",
    "\n",
    "driver.quit()\n"
   ]
  },
  {
   "cell_type": "code",
   "execution_count": null,
   "metadata": {},
   "outputs": [],
   "source": [
    "# zipファイルを解凍して移動\n",
    "for file_name in os.listdir(\"../data/zip_data\"):\n",
    "    if file_name.endswith(\".zip\"):\n",
    "        zip_path = os.path.join(\"../data/zip_data\", file_name)\n",
    "        mv_path = os.path.join(\"../data/csv_data\",  os.path.splitext(file_name)[0])\n",
    "\n",
    "        # zipファイルの解凍\n",
    "        with zipfile.ZipFile(zip_path, \"r\") as zip_ref:\n",
    "            zip_ref.extractall(mv_path)\n",
    "\n",
    "        # メッセージ表示\n",
    "        print(f\"解凍完了: {file_name} -> {mv_path}\")"
   ]
  }
 ],
 "metadata": {
  "kernelspec": {
   "display_name": "Python 3",
   "language": "python",
   "name": "python3"
  },
  "language_info": {
   "codemirror_mode": {
    "name": "ipython",
    "version": 3
   },
   "file_extension": ".py",
   "mimetype": "text/x-python",
   "name": "python",
   "nbconvert_exporter": "python",
   "pygments_lexer": "ipython3",
   "version": "3.10.3"
  }
 },
 "nbformat": 4,
 "nbformat_minor": 2
}